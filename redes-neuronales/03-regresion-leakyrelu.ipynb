{
 "cells": [
  {
   "cell_type": "code",
   "execution_count": 2,
   "metadata": {},
   "outputs": [],
   "source": [
    "from sklearn.preprocessing import StandardScaler\n",
    "from sklearn.model_selection import train_test_split\n",
    "from sklearn.metrics import r2_score\n",
    "import numpy as np\n",
    "import pandas as pd\n",
    "import matplotlib.pylab as plt\n",
    "\n",
    "import seaborn as sns\n",
    "sns.set()\n",
    "import torch.nn as nn\n",
    "import torch\n",
    "import torch.nn.functional as F\n",
    "import torch.optim as optim"
   ]
  },
  {
   "cell_type": "code",
   "execution_count": 3,
   "metadata": {},
   "outputs": [],
   "source": [
    "df = pd.read_csv('housing-data.csv')"
   ]
  },
  {
   "cell_type": "code",
   "execution_count": 5,
   "metadata": {},
   "outputs": [
    {
     "data": {
      "text/html": [
       "<div>\n",
       "<style scoped>\n",
       "    .dataframe tbody tr th:only-of-type {\n",
       "        vertical-align: middle;\n",
       "    }\n",
       "\n",
       "    .dataframe tbody tr th {\n",
       "        vertical-align: top;\n",
       "    }\n",
       "\n",
       "    .dataframe thead th {\n",
       "        text-align: right;\n",
       "    }\n",
       "</style>\n",
       "<table border=\"1\" class=\"dataframe\">\n",
       "  <thead>\n",
       "    <tr style=\"text-align: right;\">\n",
       "      <th></th>\n",
       "      <th>CRIM</th>\n",
       "      <th>ZN</th>\n",
       "      <th>INDUS</th>\n",
       "      <th>CHAS</th>\n",
       "      <th>NOX</th>\n",
       "      <th>RM</th>\n",
       "      <th>AGE</th>\n",
       "      <th>DIS</th>\n",
       "      <th>RAD</th>\n",
       "      <th>TAX</th>\n",
       "      <th>PTRATIO</th>\n",
       "      <th>B</th>\n",
       "      <th>LSTAT</th>\n",
       "      <th>MEDV</th>\n",
       "    </tr>\n",
       "  </thead>\n",
       "  <tbody>\n",
       "    <tr>\n",
       "      <th>0</th>\n",
       "      <td>0.00632</td>\n",
       "      <td>18.0</td>\n",
       "      <td>2.31</td>\n",
       "      <td>0.0</td>\n",
       "      <td>0.538</td>\n",
       "      <td>6.575</td>\n",
       "      <td>65.2</td>\n",
       "      <td>4.0900</td>\n",
       "      <td>1</td>\n",
       "      <td>296</td>\n",
       "      <td>15.3</td>\n",
       "      <td>396.90</td>\n",
       "      <td>4.98</td>\n",
       "      <td>24.0</td>\n",
       "    </tr>\n",
       "    <tr>\n",
       "      <th>1</th>\n",
       "      <td>0.02731</td>\n",
       "      <td>0.0</td>\n",
       "      <td>7.07</td>\n",
       "      <td>0.0</td>\n",
       "      <td>0.469</td>\n",
       "      <td>6.421</td>\n",
       "      <td>78.9</td>\n",
       "      <td>4.9671</td>\n",
       "      <td>2</td>\n",
       "      <td>242</td>\n",
       "      <td>17.8</td>\n",
       "      <td>396.90</td>\n",
       "      <td>9.14</td>\n",
       "      <td>21.6</td>\n",
       "    </tr>\n",
       "    <tr>\n",
       "      <th>2</th>\n",
       "      <td>0.02729</td>\n",
       "      <td>0.0</td>\n",
       "      <td>7.07</td>\n",
       "      <td>0.0</td>\n",
       "      <td>0.469</td>\n",
       "      <td>7.185</td>\n",
       "      <td>61.1</td>\n",
       "      <td>4.9671</td>\n",
       "      <td>2</td>\n",
       "      <td>242</td>\n",
       "      <td>17.8</td>\n",
       "      <td>392.83</td>\n",
       "      <td>4.03</td>\n",
       "      <td>34.7</td>\n",
       "    </tr>\n",
       "    <tr>\n",
       "      <th>3</th>\n",
       "      <td>0.03237</td>\n",
       "      <td>0.0</td>\n",
       "      <td>2.18</td>\n",
       "      <td>0.0</td>\n",
       "      <td>0.458</td>\n",
       "      <td>6.998</td>\n",
       "      <td>45.8</td>\n",
       "      <td>6.0622</td>\n",
       "      <td>3</td>\n",
       "      <td>222</td>\n",
       "      <td>18.7</td>\n",
       "      <td>394.63</td>\n",
       "      <td>2.94</td>\n",
       "      <td>33.4</td>\n",
       "    </tr>\n",
       "    <tr>\n",
       "      <th>4</th>\n",
       "      <td>0.06905</td>\n",
       "      <td>0.0</td>\n",
       "      <td>2.18</td>\n",
       "      <td>0.0</td>\n",
       "      <td>0.458</td>\n",
       "      <td>7.147</td>\n",
       "      <td>54.2</td>\n",
       "      <td>6.0622</td>\n",
       "      <td>3</td>\n",
       "      <td>222</td>\n",
       "      <td>18.7</td>\n",
       "      <td>396.90</td>\n",
       "      <td>NaN</td>\n",
       "      <td>36.2</td>\n",
       "    </tr>\n",
       "  </tbody>\n",
       "</table>\n",
       "</div>"
      ],
      "text/plain": [
       "      CRIM    ZN  INDUS  CHAS    NOX     RM   AGE     DIS  RAD  TAX  PTRATIO  \\\n",
       "0  0.00632  18.0   2.31   0.0  0.538  6.575  65.2  4.0900    1  296     15.3   \n",
       "1  0.02731   0.0   7.07   0.0  0.469  6.421  78.9  4.9671    2  242     17.8   \n",
       "2  0.02729   0.0   7.07   0.0  0.469  7.185  61.1  4.9671    2  242     17.8   \n",
       "3  0.03237   0.0   2.18   0.0  0.458  6.998  45.8  6.0622    3  222     18.7   \n",
       "4  0.06905   0.0   2.18   0.0  0.458  7.147  54.2  6.0622    3  222     18.7   \n",
       "\n",
       "        B  LSTAT  MEDV  \n",
       "0  396.90   4.98  24.0  \n",
       "1  396.90   9.14  21.6  \n",
       "2  392.83   4.03  34.7  \n",
       "3  394.63   2.94  33.4  \n",
       "4  396.90    NaN  36.2  "
      ]
     },
     "execution_count": 5,
     "metadata": {},
     "output_type": "execute_result"
    }
   ],
   "source": [
    "df.head()"
   ]
  },
  {
   "cell_type": "code",
   "execution_count": 6,
   "metadata": {},
   "outputs": [
    {
     "data": {
      "text/plain": [
       "<Axes: xlabel='RM'>"
      ]
     },
     "execution_count": 6,
     "metadata": {},
     "output_type": "execute_result"
    },
    {
     "data": {
      "image/png": "[encoded data removed]",
      "text/plain": [
       "<Figure size 640x480 with 1 Axes>"
      ]
     },
     "metadata": {},
     "output_type": "display_data"
    }
   ],
   "source": [
    "df.plot(x=\"RM\",y=\"MEDV\",style=\"o\")"
   ]
  },
  {
   "cell_type": "code",
   "execution_count": 34,
   "metadata": {},
   "outputs": [
    {
     "data": {
      "text/plain": [
       "CRIM       20\n",
       "ZN         20\n",
       "INDUS      20\n",
       "CHAS       20\n",
       "NOX         0\n",
       "RM          0\n",
       "AGE        20\n",
       "DIS         0\n",
       "RAD         0\n",
       "TAX         0\n",
       "PTRATIO     0\n",
       "B           0\n",
       "LSTAT      20\n",
       "MEDV        0\n",
       "dtype: int64"
      ]
     },
     "execution_count": 34,
     "metadata": {},
     "output_type": "execute_result"
    }
   ],
   "source": [
    "df.isna().sum()"
   ]
  },
  {
   "cell_type": "code",
   "execution_count": 35,
   "metadata": {},
   "outputs": [],
   "source": [
    "df= df.dropna()"
   ]
  },
  {
   "cell_type": "code",
   "execution_count": 36,
   "metadata": {},
   "outputs": [
    {
     "data": {
      "text/plain": [
       "CRIM       0\n",
       "ZN         0\n",
       "INDUS      0\n",
       "CHAS       0\n",
       "NOX        0\n",
       "RM         0\n",
       "AGE        0\n",
       "DIS        0\n",
       "RAD        0\n",
       "TAX        0\n",
       "PTRATIO    0\n",
       "B          0\n",
       "LSTAT      0\n",
       "MEDV       0\n",
       "dtype: int64"
      ]
     },
     "execution_count": 36,
     "metadata": {},
     "output_type": "execute_result"
    }
   ],
   "source": [
    "df.isna().sum()"
   ]
  },
  {
   "cell_type": "code",
   "execution_count": 37,
   "metadata": {},
   "outputs": [],
   "source": [
    "y=df[\"MEDV\"]\n",
    "x=df.drop(\"MEDV\",axis=1)"
   ]
  },
  {
   "cell_type": "code",
   "execution_count": 38,
   "metadata": {},
   "outputs": [],
   "source": [
    "sscaler = StandardScaler()\n",
    "sscaler.fit(x)\n",
    "X_std= sscaler.transform(x)"
   ]
  },
  {
   "cell_type": "code",
   "execution_count": 39,
   "metadata": {},
   "outputs": [
    {
     "data": {
      "text/plain": [
       "(275, 13)"
      ]
     },
     "execution_count": 39,
     "metadata": {},
     "output_type": "execute_result"
    }
   ],
   "source": [
    "X_train,X_test,y_train,y_test=train_test_split(X_std,y,test_size=0.3,random_state=99)\n",
    "X_train.shape"
   ]
  },
  {
   "cell_type": "code",
   "execution_count": 40,
   "metadata": {},
   "outputs": [
    {
     "name": "stdout",
     "output_type": "stream",
     "text": [
      "NN(\n",
      "  (layer1): Linear(in_features=13, out_features=39, bias=True)\n",
      "  (layer2): Linear(in_features=39, out_features=26, bias=True)\n",
      "  (layer3): Linear(in_features=26, out_features=13, bias=True)\n",
      "  (layer4): Linear(in_features=13, out_features=1, bias=True)\n",
      ")\n"
     ]
    }
   ],
   "source": [
    "class NN(nn.Module):\n",
    "  def __init__(self):\n",
    "    super(NN,self).__init__()\n",
    "    self.layer1=nn.Linear(X_train.shape[1],39)\n",
    "    self.layer2=nn.Linear(39,26)\n",
    "    self.layer3=nn.Linear(26,13)\n",
    "    self.layer4=nn.Linear(13,1)\n",
    "  def forward(self,x):\n",
    "    x=F.leaky_relu(self.layer1(x))\n",
    "    x=F.leaky_relu(self.layer2(x))\n",
    "    x=F.leaky_relu(self.layer3(x))\n",
    "    x=self.layer4(x)\n",
    "    return x\n",
    "model = NN()\n",
    "print(model)"
   ]
  },
  {
   "cell_type": "code",
   "execution_count": 41,
   "metadata": {},
   "outputs": [
    {
     "data": {
      "text/plain": [
       "tensor([[-0.3423, -0.4791,  1.5782,  ...,  1.2305,  0.4307,  0.7797],\n",
       "        [-0.3174, -0.4791, -0.4146,  ...,  1.1381,  0.3303,  0.0042],\n",
       "        [-0.3957,  0.3987, -0.7770,  ..., -0.8030,  0.4307, -1.0260],\n",
       "        ...,\n",
       "        [-0.3458, -0.4791, -0.6958,  ..., -0.5257,  0.3541, -1.1014],\n",
       "        [-0.3876, -0.4791, -0.5929,  ..., -0.2947,  0.3019, -1.0863],\n",
       "        [-0.2629, -0.4791,  1.2434,  ..., -1.7736, -0.2195, -0.9959]],\n",
       "       requires_grad=True)"
      ]
     },
     "execution_count": 41,
     "metadata": {},
     "output_type": "execute_result"
    }
   ],
   "source": [
    "x=torch.tensor(np.array(X_train),dtype=torch.float32,requires_grad=True)\n",
    "y=torch.tensor(np.array(y_train).reshape(-1,1),dtype=torch.float32)\n",
    "x"
   ]
  },
  {
   "cell_type": "code",
   "execution_count": 42,
   "metadata": {},
   "outputs": [],
   "source": [
    "optimizer= optim.SGD(model.parameters(),lr=0.003)"
   ]
  },
  {
   "cell_type": "code",
   "execution_count": 43,
   "metadata": {},
   "outputs": [],
   "source": [
    "loss_fn=nn.MSELoss()"
   ]
  },
  {
   "cell_type": "code",
   "execution_count": 44,
   "metadata": {},
   "outputs": [
    {
     "name": "stdout",
     "output_type": "stream",
     "text": [
      "epochs: 0......loss:566.841552734375\n",
      "epochs: 5......loss:532.4231567382812\n",
      "epochs: 10......loss:482.7979431152344\n",
      "epochs: 15......loss:173.037109375\n",
      "epochs: 20......loss:25.405860900878906\n",
      "epochs: 25......loss:35.90828323364258\n",
      "epochs: 30......loss:55.847251892089844\n",
      "epochs: 35......loss:32.47157669067383\n",
      "epochs: 40......loss:48.86634826660156\n",
      "epochs: 45......loss:29.620412826538086\n",
      "epochs: 50......loss:43.13420486450195\n",
      "epochs: 55......loss:27.393125534057617\n",
      "epochs: 60......loss:38.65605926513672\n",
      "epochs: 65......loss:25.526147842407227\n",
      "epochs: 70......loss:35.1974983215332\n",
      "epochs: 75......loss:23.865684509277344\n",
      "epochs: 80......loss:32.16636276245117\n",
      "epochs: 85......loss:22.508228302001953\n",
      "epochs: 90......loss:29.64480209350586\n",
      "epochs: 95......loss:21.206029891967773\n",
      "epochs: 100......loss:27.424072265625\n",
      "epochs: 105......loss:20.09902572631836\n",
      "epochs: 110......loss:25.438636779785156\n",
      "epochs: 115......loss:18.969547271728516\n",
      "epochs: 120......loss:23.577604293823242\n",
      "epochs: 125......loss:17.91762351989746\n",
      "epochs: 130......loss:21.91141128540039\n",
      "epochs: 135......loss:16.998334884643555\n",
      "epochs: 140......loss:20.458843231201172\n",
      "epochs: 145......loss:16.219470977783203\n",
      "epochs: 150......loss:19.428558349609375\n",
      "epochs: 155......loss:15.557613372802734\n",
      "epochs: 160......loss:18.4093074798584\n",
      "epochs: 165......loss:14.891167640686035\n",
      "epochs: 170......loss:17.325841903686523\n",
      "epochs: 175......loss:14.236945152282715\n",
      "epochs: 180......loss:16.494335174560547\n",
      "epochs: 185......loss:13.722606658935547\n",
      "epochs: 190......loss:15.694071769714355\n",
      "epochs: 195......loss:13.187618255615234\n"
     ]
    }
   ],
   "source": [
    "epochs=200\n",
    "for i in range(epochs):\n",
    "  #initialize the model parameter\n",
    "  optimizer.zero_grad(set_to_none=True)\n",
    "  #calculate the loss\n",
    "  output=model(x)\n",
    "  loss=loss_fn(output,y)\n",
    "  #backpropagation\n",
    "  loss.backward()\n",
    "  #update the parameters\n",
    "  optimizer.step()\n",
    "  if(i%5==0):\n",
    "    print(f\"epochs: {i}......loss:{loss}\")"
   ]
  },
  {
   "cell_type": "code",
   "execution_count": 45,
   "metadata": {},
   "outputs": [],
   "source": [
    "y_train_pred = model(torch.tensor(X_train,dtype=torch.float32,requires_grad=True))\n",
    "y_test_pred = model(torch.tensor(X_test,dtype=torch.float32))\n",
    "\n",
    "#convert to numpy array\n",
    "y_train_pred = y_train_pred.detach().numpy()\n",
    "y_test_pred = y_test_pred.detach().numpy()"
   ]
  },
  {
   "cell_type": "code",
   "execution_count": 46,
   "metadata": {},
   "outputs": [
    {
     "name": "stdout",
     "output_type": "stream",
     "text": [
      "0.804497503967283\n",
      "0.8518668980857491\n"
     ]
    }
   ],
   "source": [
    "test_accuracy=r2_score(y_test,y_test_pred)\n",
    "train_accuracy=r2_score(y_train,y_train_pred)\n",
    "print(train_accuracy)\n",
    "print(test_accuracy)"
   ]
  }
 ],
 "metadata": {
  "kernelspec": {
   "display_name": "machinelearning-nur",
   "language": "python",
   "name": "python3"
  },
  "language_info": {
   "codemirror_mode": {
    "name": "ipython",
    "version": 3
   },
   "file_extension": ".py",
   "mimetype": "text/x-python",
   "name": "python",
   "nbconvert_exporter": "python",
   "pygments_lexer": "ipython3",
   "version": "3.11.9"
  }
 },
 "nbformat": 4,
 "nbformat_minor": 2
}

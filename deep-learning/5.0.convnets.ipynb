{
 "cells": [
  {
   "cell_type": "markdown",
   "metadata": {},
   "source": [
    "# Mejorando la Precisión a través de convoluciones\n",
    "\n",
    "En el anterior notebook hemos visto cómo implementar una red neuronal profunda con 3 capas, una capa de entrada, una capa oculta y la capa de salida. También hemos experimentado usando distinto número de unidades y capas ocultas para observar su efecto en la precisión del modelo entrenado.\n",
    "\n",
    "Para una referencia conveniente, a continuación tenemos el código completo para tener un valor inicial de precisión:"
   ]
  },
  {
   "cell_type": "code",
   "execution_count": 1,
   "metadata": {
    "tags": []
   },
   "outputs": [
    {
     "name": "stdout",
     "output_type": "stream",
     "text": [
      "Usando: cpu\n"
     ]
    }
   ],
   "source": [
    "# codigo visto previamente\n",
    "import torch\n",
    "from torch import nn\n",
    "from torch.utils.data import DataLoader\n",
    "from torchvision import datasets\n",
    "from torchvision.transforms import ToTensor, Normalize, Compose\n",
    "\n",
    "# dispositivo de entrenamiento\n",
    "device = (\n",
    "    \"cuda\" if torch.cuda.is_available()\n",
    "    else \"mps\" if torch.backends.mps.is_available()\n",
    "    else \"cpu\"\n",
    ")\n",
    "print(f\"Usando: {device}\")"
   ]
  },
  {
   "cell_type": "code",
   "execution_count": 4,
   "metadata": {},
   "outputs": [],
   "source": [
    "transform = Compose([\n",
    "    ToTensor(),\n",
    "    Normalize((0.5,), (0.5,))  # Example normalization for single-channel (grayscale) images\n",
    "])\n",
    "\n",
    "training_data = datasets.FashionMNIST(\n",
    "    root=\"data\",\n",
    "    train=True,\n",
    "    download=True,\n",
    "    transform=ToTensor()\n",
    ")\n",
    "\n",
    "test_data = datasets.FashionMNIST(\n",
    "    root=\"data\",\n",
    "    train=False,\n",
    "    download=True,\n",
    "    transform=ToTensor()\n",
    ")\n",
    "\n",
    "train_dataloader = DataLoader(training_data, batch_size=256, num_workers=16)\n",
    "test_dataloader = DataLoader(test_data, batch_size=256, num_workers=16)\n",
    "\n",
    "class NeuralNetwork(nn.Module):\n",
    "    def __init__(self):\n",
    "        super().__init__()\n",
    "        self.flatten = nn.Flatten()\n",
    "        self.linear_relu_stack = nn.Sequential(\n",
    "            nn.Linear(28*28, 64),\n",
    "            nn.ReLU(),\n",
    "            nn.Linear(64, 128),\n",
    "            nn.ReLU(),\n",
    "            nn.Linear(128, 10),\n",
    "        )\n",
    "\n",
    "    def forward(self, x):\n",
    "        x = self.flatten(x)\n",
    "        logits = self.linear_relu_stack(x)\n",
    "        return logits\n",
    "\n",
    "model = NeuralNetwork().to(device)\n",
    "\n",
    "# bucle de entrenamiento\n",
    "\n",
    "def train_loop(dataloader, model, loss_fn, optimizer):\n",
    "    size = len(dataloader.dataset)\n",
    "    # modo entrenamiento\n",
    "    model.train()\n",
    "    for batch, (X, y) in enumerate(dataloader):\n",
    "        # mover si es necesario\n",
    "        X = X.to(device)\n",
    "        y = y.to(device)\n",
    "        # forward\n",
    "        # prediccion y costo\n",
    "        pred = model(X)\n",
    "        loss = loss_fn(pred, y)\n",
    "\n",
    "        # backpropagation\n",
    "        loss.backward()\n",
    "        optimizer.step()\n",
    "        optimizer.zero_grad()\n",
    "\n",
    "        if batch % 100 == 0:\n",
    "            loss, current = loss.item(), batch * batch_size + len(X)\n",
    "            print(f\"loss: {loss:>7f}  [{current:>5d}/{size:>5d}]\")\n",
    "\n",
    "# funcion de pruebas\n",
    "def test_loop(dataloader, model, loss_fn):\n",
    "    # modo evaluacion\n",
    "    model.eval()\n",
    "    size = len(dataloader.dataset)\n",
    "    num_batches = len(dataloader)\n",
    "    test_loss, correct = 0, 0\n",
    "    # evaluacion del modelo con torch.no_grad\n",
    "    with torch.no_grad():\n",
    "        for X, y in dataloader:\n",
    "            X = X.to(device)\n",
    "            y = y.to(device)\n",
    "            pred = model(X)\n",
    "            test_loss += loss_fn(pred, y).item()\n",
    "            correct += (pred.argmax(1) == y).type(torch.float).sum().item()\n",
    "\n",
    "    test_loss /= num_batches\n",
    "    correct /= size\n",
    "    print(f\"Test Error: \\n Accuracy: {(100*correct):>0.1f}%, Avg loss: {test_loss:>8f} \\n\")"
   ]
  },
  {
   "cell_type": "code",
   "execution_count": 5,
   "metadata": {},
   "outputs": [
    {
     "name": "stdout",
     "output_type": "stream",
     "text": [
      "Epoch 1\n",
      "-------------------------------\n",
      "loss: 2.307287  [  256/60000]\n",
      "loss: 2.296238  [ 6656/60000]\n",
      "loss: 2.289425  [13056/60000]\n",
      "Test Error: \n",
      " Accuracy: 10.0%, Avg loss: 2.287545 \n",
      "\n",
      "Epoch 2\n",
      "-------------------------------\n",
      "loss: 2.289529  [  256/60000]\n",
      "loss: 2.279496  [ 6656/60000]\n",
      "loss: 2.268698  [13056/60000]\n",
      "Test Error: \n",
      " Accuracy: 28.0%, Avg loss: 2.266917 \n",
      "\n",
      "Epoch 3\n",
      "-------------------------------\n",
      "loss: 2.267778  [  256/60000]\n",
      "loss: 2.258730  [ 6656/60000]\n",
      "loss: 2.243100  [13056/60000]\n",
      "Test Error: \n",
      " Accuracy: 42.7%, Avg loss: 2.242032 \n",
      "\n",
      "Epoch 4\n",
      "-------------------------------\n",
      "loss: 2.241635  [  256/60000]\n",
      "loss: 2.234133  [ 6656/60000]\n",
      "loss: 2.213091  [13056/60000]\n",
      "Test Error: \n",
      " Accuracy: 50.7%, Avg loss: 2.212966 \n",
      "\n",
      "Epoch 5\n",
      "-------------------------------\n",
      "loss: 2.211802  [  256/60000]\n",
      "loss: 2.203818  [ 6656/60000]\n",
      "loss: 2.176113  [13056/60000]\n",
      "Test Error: \n",
      " Accuracy: 53.8%, Avg loss: 2.176768 \n",
      "\n",
      "Epoch 6\n",
      "-------------------------------\n",
      "loss: 2.175134  [  256/60000]\n",
      "loss: 2.165369  [ 6656/60000]\n",
      "loss: 2.130697  [13056/60000]\n",
      "Test Error: \n",
      " Accuracy: 53.6%, Avg loss: 2.131829 \n",
      "\n",
      "Epoch 7\n",
      "-------------------------------\n",
      "loss: 2.129614  [  256/60000]\n",
      "loss: 2.117450  [ 6656/60000]\n",
      "loss: 2.076072  [13056/60000]\n",
      "Test Error: \n",
      " Accuracy: 54.0%, Avg loss: 2.077203 \n",
      "\n",
      "Epoch 8\n",
      "-------------------------------\n",
      "loss: 2.074327  [  256/60000]\n",
      "loss: 2.059534  [ 6656/60000]\n",
      "loss: 2.012236  [13056/60000]\n",
      "Test Error: \n",
      " Accuracy: 53.7%, Avg loss: 2.012745 \n",
      "\n",
      "Done!\n"
     ]
    }
   ],
   "source": [
    "learning_rate = 1e-3\n",
    "batch_size = 64\n",
    "epochs = 8\n",
    "loss_fn = nn.CrossEntropyLoss()\n",
    "optimizer = torch.optim.SGD(model.parameters(), lr=learning_rate)\n",
    "# bucle principal\n",
    "for t in range(epochs):\n",
    "    print(f\"Epoch {t+1}\\n-------------------------------\")\n",
    "    train_loop(train_dataloader, model, loss_fn, optimizer)\n",
    "    test_loop(test_dataloader, model, loss_fn)\n",
    "print(\"Done!\")"
   ]
  },
  {
   "cell_type": "markdown",
   "metadata": {},
   "source": [
    "cómo podemos mejorar este rendimiento?\n",
    "\n",
    "Una forma es usar algo llamado Convolución. Una Convolución es una operación matemática que puede ser aplicada a señales de distinta naturaleza, en este caso, la señal a aplicar será nuestra imagen y sus correspondientes mapas de características en las capas ocultas.\n",
    "\n",
    "Pero antes de poder aplicar esta operación, debemos definir de mejor manera qué es y cómo se usa una convolución en imágenes.\n"
   ]
  },
  {
   "cell_type": "markdown",
   "metadata": {},
   "source": [
    "## Convoluciones\n",
    "En escencia, tendremos un arreglo llamado **parche** o **kernel** (usualmente de 3x3 o 5x5) y lo *deslizaremos* sobre la imagen en la que queremos operar. Se puede observar una visualización de la misma operación en la siguiente figura:\n",
    "\n",
    "![tensor](conv1.gif)\n",
    "\n",
    "en el caso anterior, un parche de 3x3 se desliza sobre una imagen original de tamaño 5x5 obteniendo como resultado una **nueva imagen** de tamaño 5x5, nótese que para que podamos tener una imagen del mismo tamaño original necesitamos agregar valores *extra* en los extremos de la imagen de entrada, esta técnica se denomina *padding*. \n"
   ]
  },
  {
   "cell_type": "markdown",
   "metadata": {},
   "source": [
    "## Kernels de convolución\n",
    "\n",
    "En el contexto de las redes neuronales, intercambiaremos en nuestra arquitectura la estructura tradicional de las **neuronas** o unidades en las capas de la red por **filtros**. En la siguiente figura se puede visualizar el efecto de estos filtros.\n",
    "\n",
    "![tensor](conv3.gif)\n",
    "\n",
    "Por tanto, durante el entrenamiento, la tarea es encontrar los valores más adecuados de cada elemento de los filtros para minimizar la función de costo o pérdida.\n",
    "\n",
    "La naturaleza y características de la operación de convolución son ideales para ser implementadas en tareas de visión artificial pues permiten a la red, a través de los filtros entrenados, *resaltar* las características más importantes para la predicción y mejora la eficiencia computacional pues nos enfocamos solamente en entrenar sobre ésas mismas características resaltadas.\n"
   ]
  },
  {
   "cell_type": "markdown",
   "metadata": {},
   "source": [
    "## Fashion MNIST con una red convolucional\n",
    "\n",
    "Una vez entendido el concepto e importancia de la operación de convolución podemos aplicarlo a nuestra tarea de clasificación de prendas de vestir.\n",
    "\n",
    "Pyotch nos permite definir una capa especial llamada **Conv2D** que implementa todas las operaciones.\n",
    "\n",
    "La implementación mejorada se vería así:\n"
   ]
  },
  {
   "cell_type": "code",
   "execution_count": 10,
   "metadata": {},
   "outputs": [
    {
     "name": "stdout",
     "output_type": "stream",
     "text": [
      "ConvNet(\n",
      "  (backbone): Sequential(\n",
      "    (0): Conv2d(1, 32, kernel_size=(3, 3), stride=(1, 1))\n",
      "    (1): ReLU()\n",
      "    (2): MaxPool2d(kernel_size=2, stride=2, padding=0, dilation=1, ceil_mode=False)\n",
      "    (3): Conv2d(32, 32, kernel_size=(3, 3), stride=(1, 1))\n",
      "    (4): ReLU()\n",
      "    (5): MaxPool2d(kernel_size=2, stride=2, padding=0, dilation=1, ceil_mode=False)\n",
      "  )\n",
      "  (head): Sequential(\n",
      "    (0): Linear(in_features=800, out_features=128, bias=True)\n",
      "    (1): ReLU()\n",
      "    (2): Linear(in_features=128, out_features=10, bias=True)\n",
      "  )\n",
      ")\n"
     ]
    }
   ],
   "source": [
    "class ConvNet(nn.Module):\n",
    "    def __init__(self):\n",
    "        super().__init__()\n",
    "        # self.flatten = nn.Flatten()\n",
    "        self.backbone = nn.Sequential(\n",
    "            nn.Conv2d(in_channels=1, out_channels=32, kernel_size=3),\n",
    "            nn.ReLU(),\n",
    "            nn.MaxPool2d(kernel_size=2, stride=2),\n",
    "            nn.Conv2d(in_channels=32, out_channels=32, kernel_size=3),\n",
    "            nn.ReLU(),\n",
    "            nn.MaxPool2d(kernel_size=2, stride=2),\n",
    "        )\n",
    "        self.head = nn.Sequential(\n",
    "            nn.Linear(in_features=800, out_features=128),\n",
    "            nn.ReLU(),\n",
    "            nn.Linear(in_features=128, out_features=10),\n",
    "        )\n",
    "\n",
    "    def forward(self, x):\n",
    "        features = self.backbone(x)\n",
    "        # flatten tensor\n",
    "        flat_features = features.view(features.size(0), -1)\n",
    "        # apply the classifier\n",
    "        logits = self.head(flat_features)\n",
    "        return logits\n",
    "    \n",
    "model2 = ConvNet().to(device)\n",
    "print(model2)"
   ]
  },
  {
   "cell_type": "code",
   "execution_count": 11,
   "metadata": {},
   "outputs": [
    {
     "name": "stdout",
     "output_type": "stream",
     "text": [
      "Epoch 1\n",
      "-------------------------------\n",
      "loss: 2.304158  [  256/60000]\n",
      "loss: 1.527696  [25856/60000]\n",
      "loss: 0.888424  [51456/60000]\n",
      "Test Error: \n",
      " Accuracy: 71.4%, Avg loss: 0.826331 \n",
      "\n",
      "Epoch 2\n",
      "-------------------------------\n",
      "loss: 0.792175  [  256/60000]\n",
      "loss: 0.695051  [25856/60000]\n",
      "loss: 0.625680  [51456/60000]\n",
      "Test Error: \n",
      " Accuracy: 75.2%, Avg loss: 0.660008 \n",
      "\n",
      "Epoch 3\n",
      "-------------------------------\n",
      "loss: 0.600452  [  256/60000]\n",
      "loss: 0.576911  [25856/60000]\n",
      "loss: 0.548563  [51456/60000]\n",
      "Test Error: \n",
      " Accuracy: 77.7%, Avg loss: 0.591401 \n",
      "\n",
      "Epoch 4\n",
      "-------------------------------\n",
      "loss: 0.522961  [  256/60000]\n",
      "loss: 0.514955  [25856/60000]\n",
      "loss: 0.511449  [51456/60000]\n",
      "Test Error: \n",
      " Accuracy: 78.9%, Avg loss: 0.551093 \n",
      "\n",
      "Epoch 5\n",
      "-------------------------------\n",
      "loss: 0.480779  [  256/60000]\n",
      "loss: 0.473875  [25856/60000]\n",
      "loss: 0.487611  [51456/60000]\n",
      "Test Error: \n",
      " Accuracy: 80.0%, Avg loss: 0.520588 \n",
      "\n",
      "Epoch 6\n",
      "-------------------------------\n",
      "loss: 0.449322  [  256/60000]\n",
      "loss: 0.444753  [25856/60000]\n",
      "loss: 0.472115  [51456/60000]\n",
      "Test Error: \n",
      " Accuracy: 81.0%, Avg loss: 0.497652 \n",
      "\n",
      "Epoch 7\n",
      "-------------------------------\n",
      "loss: 0.423744  [  256/60000]\n",
      "loss: 0.420103  [25856/60000]\n",
      "loss: 0.459011  [51456/60000]\n",
      "Test Error: \n",
      " Accuracy: 82.1%, Avg loss: 0.478824 \n",
      "\n",
      "Epoch 8\n",
      "-------------------------------\n",
      "loss: 0.401688  [  256/60000]\n",
      "loss: 0.400219  [25856/60000]\n",
      "loss: 0.448258  [51456/60000]\n",
      "Test Error: \n",
      " Accuracy: 82.8%, Avg loss: 0.463285 \n",
      "\n",
      "Done!\n"
     ]
    }
   ],
   "source": [
    "learning_rate = 1e-4\n",
    "batch_size = 256\n",
    "epochs = 8\n",
    "loss_fn = nn.CrossEntropyLoss()\n",
    "optimizer = torch.optim.Adam(model2.parameters(), lr=learning_rate)\n",
    "# bucle principal\n",
    "for t in range(epochs):\n",
    "    print(f\"Epoch {t+1}\\n-------------------------------\")\n",
    "    train_loop(train_dataloader, model2, loss_fn, optimizer)\n",
    "    test_loop(test_dataloader, model2, loss_fn)\n",
    "print(\"Done!\")"
   ]
  },
  {
   "cell_type": "markdown",
   "metadata": {},
   "source": [
    "Analice la diferencia en la precisión obtenida con nuestra nueva red convolucional.\n",
    "\n"
   ]
  },
  {
   "cell_type": "markdown",
   "metadata": {},
   "source": [
    "## Ejercicios de exploración\n",
    "\n",
    "Incremente el número de épocas en el entrenamiento y analice cuidadosamente el efecto en la precisión final tanto en el conjunto de entrenamiento como en el conjunto de validación.\n"
   ]
  },
  {
   "cell_type": "markdown",
   "metadata": {},
   "source": [
    "## Visualizando las capas convolucionales\n",
    "\n",
    "Visualizaremos los efectos de la convolución y los **mapas de características** de las capas ocultas de manera visual. \n",
    "\n",
    "De los 100 primeros ejemplos en el conjunto de pruebas, aquellos entre el índice 23 y 28 son zapatos. Analice la similaridad entre sus mapas de características.\n"
   ]
  },
  {
   "cell_type": "code",
   "execution_count": null,
   "metadata": {},
   "outputs": [],
   "source": [
    "feature_maps = []\n",
    "# Define the hook function\n",
    "def hook_fn(module, input, output):\n",
    "    print(\"hooking...\")\n",
    "    feature_maps.append(output)"
   ]
  },
  {
   "cell_type": "code",
   "execution_count": null,
   "metadata": {},
   "outputs": [],
   "source": [
    "# Register hook to the layers you want to visualize\n",
    "for layer in [model2.backbone[0], model2.backbone[3]]:  # Conv layers at index 0 and 3\n",
    "    layer.register_forward_hook(hook_fn)"
   ]
  },
  {
   "cell_type": "code",
   "execution_count": null,
   "metadata": {},
   "outputs": [],
   "source": [
    "import matplotlib.pyplot as plt\n",
    "%matplotlib inline\n",
    "# Define the visualization function\n",
    "def visualize_feature_maps(feature_maps, num_cols=8):\n",
    "    for i, feature_map in enumerate(feature_maps):\n",
    "        num_filters = feature_map.shape[1]\n",
    "        num_rows = (num_filters + num_cols - 1) // num_cols  # Ensure enough rows\n",
    "        fig, axes = plt.subplots(num_rows, num_cols, figsize=(num_cols * 2, num_rows * 2))\n",
    "        \n",
    "        for j in range(num_filters):\n",
    "            row = j // num_cols\n",
    "            col = j % num_cols\n",
    "            ax = axes[row, col]\n",
    "            ax.imshow(feature_map[0, j].detach().cpu().numpy(), cmap='viridis')\n",
    "            ax.axis('off')\n",
    "        \n",
    "        for j in range(num_filters, num_rows * num_cols):  # Hide unused subplots\n",
    "            row = j // num_cols\n",
    "            col = j % num_cols\n",
    "            axes[row, col].axis('off')\n",
    "\n",
    "        fig.suptitle(f'Feature Map {i+1}')\n",
    "        plt.show()"
   ]
  },
  {
   "cell_type": "code",
   "execution_count": null,
   "metadata": {},
   "outputs": [],
   "source": [
    "len(training_data[0])"
   ]
  },
  {
   "cell_type": "code",
   "execution_count": null,
   "metadata": {},
   "outputs": [],
   "source": [
    "image, label = training_data[10]\n",
    "image = image.to(device)\n",
    "label = torch.tensor(label).to(device)\n",
    "# Clear previous feature maps\n",
    "feature_maps.clear()\n",
    "output = model2(image.unsqueeze(0))"
   ]
  },
  {
   "cell_type": "code",
   "execution_count": null,
   "metadata": {},
   "outputs": [],
   "source": [
    "visualize_feature_maps([fm for fm in feature_maps])"
   ]
  },
  {
   "cell_type": "markdown",
   "metadata": {},
   "source": [
    "## Ejercicios\n",
    "1. Modifique la cantidad de filtros de convolución, cambie de 32 a 16 o 64, cuál es el impacto en la precisión y/o el tiempo de entrenamiento?\n",
    "2. Elimine la última capa de convolución, cuál es el impacto?\n",
    "3. Y qué pasa si se agregan nuevas capas de convolución?\n"
   ]
  },
  {
   "cell_type": "code",
   "execution_count": null,
   "metadata": {},
   "outputs": [],
   "source": []
  }
 ],
 "metadata": {
  "kernelspec": {
   "display_name": "machinelearning-nur",
   "language": "python",
   "name": "python3"
  },
  "language_info": {
   "codemirror_mode": {
    "name": "ipython",
    "version": 3
   },
   "file_extension": ".py",
   "mimetype": "text/x-python",
   "name": "python",
   "nbconvert_exporter": "python",
   "pygments_lexer": "ipython3",
   "version": "3.11.9"
  },
  "orig_nbformat": 2
 },
 "nbformat": 4,
 "nbformat_minor": 2
}
